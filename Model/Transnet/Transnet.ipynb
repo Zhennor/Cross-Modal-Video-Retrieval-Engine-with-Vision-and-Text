{
 "cells": [
  {
   "cell_type": "code",
   "execution_count": 3,
   "id": "31c91f19-9c2a-4eb5-8f21-284c5be4ea81",
   "metadata": {},
   "outputs": [
    {
     "name": "stdout",
     "output_type": "stream",
     "text": [
      "Requirement already satisfied: tensorflow==1.12 in /home/zhentu/anaconda3/envs/tf1.12/lib/python3.6/site-packages (1.12.0)\n",
      "Requirement already satisfied: absl-py>=0.1.6 in /home/zhentu/anaconda3/envs/tf1.12/lib/python3.6/site-packages (from tensorflow==1.12) (1.4.0)\n",
      "Requirement already satisfied: numpy>=1.13.3 in /home/zhentu/anaconda3/envs/tf1.12/lib/python3.6/site-packages (from tensorflow==1.12) (1.19.5)\n",
      "Requirement already satisfied: gast>=0.2.0 in /home/zhentu/anaconda3/envs/tf1.12/lib/python3.6/site-packages (from tensorflow==1.12) (0.6.0)\n",
      "Requirement already satisfied: keras-applications>=1.0.6 in /home/zhentu/anaconda3/envs/tf1.12/lib/python3.6/site-packages (from tensorflow==1.12) (1.0.8)\n",
      "Requirement already satisfied: six>=1.10.0 in /home/zhentu/anaconda3/envs/tf1.12/lib/python3.6/site-packages (from tensorflow==1.12) (1.16.0)\n",
      "Requirement already satisfied: tensorboard<1.13.0,>=1.12.0 in /home/zhentu/anaconda3/envs/tf1.12/lib/python3.6/site-packages (from tensorflow==1.12) (1.12.2)\n",
      "Requirement already satisfied: termcolor>=1.1.0 in /home/zhentu/anaconda3/envs/tf1.12/lib/python3.6/site-packages (from tensorflow==1.12) (1.1.0)\n",
      "Requirement already satisfied: wheel>=0.26 in /home/zhentu/anaconda3/envs/tf1.12/lib/python3.6/site-packages (from tensorflow==1.12) (0.37.1)\n",
      "Requirement already satisfied: grpcio>=1.8.6 in /home/zhentu/anaconda3/envs/tf1.12/lib/python3.6/site-packages (from tensorflow==1.12) (1.48.2)\n",
      "Requirement already satisfied: keras-preprocessing>=1.0.5 in /home/zhentu/anaconda3/envs/tf1.12/lib/python3.6/site-packages (from tensorflow==1.12) (1.1.2)\n",
      "Requirement already satisfied: astor>=0.6.0 in /home/zhentu/anaconda3/envs/tf1.12/lib/python3.6/site-packages (from tensorflow==1.12) (0.8.1)\n",
      "Requirement already satisfied: protobuf>=3.6.1 in /home/zhentu/anaconda3/envs/tf1.12/lib/python3.6/site-packages (from tensorflow==1.12) (3.19.6)\n",
      "Requirement already satisfied: h5py in /home/zhentu/anaconda3/envs/tf1.12/lib/python3.6/site-packages (from keras-applications>=1.0.6->tensorflow==1.12) (3.1.0)\n",
      "Requirement already satisfied: werkzeug>=0.11.10 in /home/zhentu/anaconda3/envs/tf1.12/lib/python3.6/site-packages (from tensorboard<1.13.0,>=1.12.0->tensorflow==1.12) (2.0.3)\n",
      "Requirement already satisfied: markdown>=2.6.8 in /home/zhentu/anaconda3/envs/tf1.12/lib/python3.6/site-packages (from tensorboard<1.13.0,>=1.12.0->tensorflow==1.12) (3.3.7)\n",
      "Requirement already satisfied: importlib-metadata>=4.4 in /home/zhentu/anaconda3/envs/tf1.12/lib/python3.6/site-packages (from markdown>=2.6.8->tensorboard<1.13.0,>=1.12.0->tensorflow==1.12) (4.8.3)\n",
      "Requirement already satisfied: typing-extensions>=3.6.4 in /home/zhentu/anaconda3/envs/tf1.12/lib/python3.6/site-packages (from importlib-metadata>=4.4->markdown>=2.6.8->tensorboard<1.13.0,>=1.12.0->tensorflow==1.12) (4.1.1)\n",
      "Requirement already satisfied: zipp>=0.5 in /home/zhentu/anaconda3/envs/tf1.12/lib/python3.6/site-packages (from importlib-metadata>=4.4->markdown>=2.6.8->tensorboard<1.13.0,>=1.12.0->tensorflow==1.12) (3.6.0)\n",
      "Requirement already satisfied: dataclasses in /home/zhentu/anaconda3/envs/tf1.12/lib/python3.6/site-packages (from werkzeug>=0.11.10->tensorboard<1.13.0,>=1.12.0->tensorflow==1.12) (0.8)\n",
      "Requirement already satisfied: cached-property in /home/zhentu/anaconda3/envs/tf1.12/lib/python3.6/site-packages (from h5py->keras-applications>=1.0.6->tensorflow==1.12) (1.5.2)\n",
      "Cloning into 'TransNet'...\n",
      "remote: Enumerating objects: 27, done.\u001b[K\n",
      "remote: Counting objects: 100% (3/3), done.\u001b[K\n",
      "remote: Compressing objects: 100% (3/3), done.\u001b[K\n",
      "remote: Total 27 (delta 0), reused 2 (delta 0), pack-reused 24\u001b[K\n",
      "Receiving objects: 100% (27/27), 32.91 MiB | 15.10 MiB/s, done.\n",
      "Resolving deltas: 100% (8/8), done.\n",
      "Updating files: 100% (7/7), done.\n"
     ]
    }
   ],
   "source": [
    "!pip install tensorflow==1.12\n",
    "!git clone https://github.com/soCzech/TransNet"
   ]
  },
  {
   "cell_type": "code",
   "execution_count": 4,
   "id": "bc6e4b5b-dd8b-4ad4-bbd5-75c852663922",
   "metadata": {},
   "outputs": [
    {
     "name": "stdout",
     "output_type": "stream",
     "text": [
      "Requirement already satisfied: pillow in /home/zhentu/anaconda3/envs/tf1.12/lib/python3.6/site-packages (8.4.0)\n",
      "Note: you may need to restart the kernel to use updated packages.\n"
     ]
    }
   ],
   "source": [
    "pip install pillow\n"
   ]
  },
  {
   "cell_type": "code",
   "execution_count": 5,
   "id": "22d50924-0f4f-45f3-8772-74755328b613",
   "metadata": {},
   "outputs": [
    {
     "name": "stdout",
     "output_type": "stream",
     "text": [
      "Requirement already satisfied: ffmpeg-python in /home/zhentu/anaconda3/envs/tf1.12/lib/python3.6/site-packages (0.2.0)\n",
      "Requirement already satisfied: future in /home/zhentu/anaconda3/envs/tf1.12/lib/python3.6/site-packages (from ffmpeg-python) (1.0.0)\n",
      "Note: you may need to restart the kernel to use updated packages.\n"
     ]
    }
   ],
   "source": [
    "pip install ffmpeg-python"
   ]
  },
  {
   "cell_type": "code",
   "execution_count": 6,
   "id": "16a61777-3faa-4b1d-b0dc-b4d5d33b3056",
   "metadata": {},
   "outputs": [
    {
     "name": "stdout",
     "output_type": "stream",
     "text": [
      "/mnt/f/AIC/Model/TransNet\n"
     ]
    }
   ],
   "source": [
    "%cd TransNet"
   ]
  },
  {
   "cell_type": "code",
   "execution_count": 7,
   "id": "86958bb2-1369-4ccb-8c08-2ce529f7a898",
   "metadata": {},
   "outputs": [],
   "source": [
    "import ffmpeg\n",
    "import numpy as np\n",
    "import tensorflow as tf\n",
    "\n",
    "from transnet import TransNetParams, TransNet\n",
    "from transnet_utils import draw_video_with_predictions, scenes_from_predictions"
   ]
  },
  {
   "cell_type": "code",
   "execution_count": 8,
   "id": "95f4bd23-4fcd-442c-b194-e4b087a765b5",
   "metadata": {},
   "outputs": [],
   "source": [
    "params = TransNetParams()\n",
    "params.CHECKPOINT_PATH = \"./model/transnet_model-F16_L3_S2_D256\"\n"
   ]
  },
  {
   "cell_type": "code",
   "execution_count": 9,
   "id": "7196790d-1b5d-472b-adfc-b7274338a63a",
   "metadata": {},
   "outputs": [
    {
     "name": "stdout",
     "output_type": "stream",
     "text": [
      "[TransNet] Creating ops.\n",
      "           Input (?, ?, 27, 48, 3)\n",
      "           SDDCNN_1\n",
      "           > DDCNN_1 (?, ?, 27, 48, 64)\n",
      "           > DDCNN_2 (?, ?, 27, 48, 64)\n",
      "           MaxPool (?, ?, 13, 24, 64)\n",
      "           SDDCNN_2\n",
      "           > DDCNN_1 (?, ?, 13, 24, 128)\n",
      "           > DDCNN_2 (?, ?, 13, 24, 128)\n",
      "           MaxPool (?, ?, 6, 12, 128)\n",
      "           SDDCNN_3\n",
      "           > DDCNN_1 (?, ?, 6, 12, 256)\n",
      "           > DDCNN_2 (?, ?, 6, 12, 256)\n",
      "           MaxPool (?, ?, 3, 6, 256)\n",
      "           Flatten (?, ?, 4608)\n",
      "           Dense (?, ?, 256)\n",
      "           Logits (?, ?, 2)\n",
      "           Predictions (?, ?)\n",
      "[TransNet] Network built.\n",
      "[TransNet] Found 4614850 trainable parameters.\n",
      "INFO:tensorflow:Restoring parameters from ./model/transnet_model-F16_L3_S2_D256\n",
      "[TransNet] Parameters restored from 'transnet_model-F16_L3_S2_D256'.\n"
     ]
    }
   ],
   "source": [
    "net = TransNet(params)"
   ]
  },
  {
   "cell_type": "code",
   "execution_count": null,
   "id": "7463222a-9867-49db-81d7-9c3ecbf4a3ba",
   "metadata": {
    "scrolled": true
   },
   "outputs": [],
   "source": [
    "import ffmpeg\n",
    "video_path = \"/mnt/f/AIC/Video/Thời sự toàn cảnh tối 9-7-Nhậu hết rượu, lấy cồn rửa tay ra uống, 4 người nhập viện  VTV24.mp4\"\n",
    "video_stream, err = (\n",
    "    ffmpeg\n",
    "    .input(video_path)\n",
    "    .output('pipe:', format='rawvideo', pix_fmt='rgb24', s='{}x{}'.format(params.INPUT_WIDTH, params.INPUT_HEIGHT))\n",
    "    .run(capture_stdout=True)\n",
    ")\n",
    "video = np.frombuffer(video_stream, np.uint8).reshape([-1, params.INPUT_HEIGHT, params.INPUT_WIDTH, 3])"
   ]
  },
  {
   "cell_type": "code",
   "execution_count": null,
   "id": "9c00539c-6c96-4d11-a011-581aff1cbb6e",
   "metadata": {},
   "outputs": [],
   "source": [
    "video.shape"
   ]
  },
  {
   "cell_type": "code",
   "execution_count": null,
   "id": "0fc6b0e9-1fc3-4766-8b33-2db5d9cc074e",
   "metadata": {},
   "outputs": [],
   "source": [
    "predictions = net.predict_video(video)\n",
    "predictions"
   ]
  },
  {
   "cell_type": "code",
   "execution_count": null,
   "id": "0eba7ffa",
   "metadata": {},
   "outputs": [],
   "source": [
    "draw_video_with_predictions(video, predictions, threshold=0.1)\n"
   ]
  },
  {
   "cell_type": "code",
   "execution_count": null,
   "id": "8d163012",
   "metadata": {},
   "outputs": [],
   "source": [
    "scenes = scenes_from_predictions(predictions, threshold=0.1)"
   ]
  },
  {
   "cell_type": "code",
   "execution_count": null,
   "id": "079f1119",
   "metadata": {},
   "outputs": [],
   "source": [
    "import numpy as np\n",
    "\n",
    "# Assuming scenes is your array\n",
    "# Remove the truncation for display\n",
    "np.set_printoptions(threshold=np.inf)\n",
    "\n",
    "# Display the array\n",
    "scenes"
   ]
  },
  {
   "cell_type": "code",
   "execution_count": null,
   "id": "cdb114c1",
   "metadata": {},
   "outputs": [],
   "source": []
  }
 ],
 "metadata": {
  "kernelspec": {
   "display_name": "Python 3",
   "language": "python",
   "name": "python3"
  },
  "language_info": {
   "codemirror_mode": {
    "name": "ipython",
    "version": 3
   },
   "file_extension": ".py",
   "mimetype": "text/x-python",
   "name": "python",
   "nbconvert_exporter": "python",
   "pygments_lexer": "ipython3",
   "version": "3.6.13"
  }
 },
 "nbformat": 4,
 "nbformat_minor": 5
}
